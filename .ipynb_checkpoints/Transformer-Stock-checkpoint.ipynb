{
 "cells": [
  {
   "cell_type": "code",
   "execution_count": 35,
   "metadata": {},
   "outputs": [],
   "source": [
    "import numpy as np\n",
    "import pandas as pd\n",
    "from pandas import DataFrame, Series\n",
    "from sklearn.preprocessing import StandardScaler\n",
    "import torch"
   ]
  },
  {
   "cell_type": "code",
   "execution_count": 36,
   "metadata": {},
   "outputs": [],
   "source": [
    "'''全局参数'''\n",
    "r_train = 0.9\n"
   ]
  },
  {
   "cell_type": "code",
   "execution_count": 37,
   "metadata": {},
   "outputs": [
    {
     "data": {
      "text/html": [
       "<div>\n",
       "<style scoped>\n",
       "    .dataframe tbody tr th:only-of-type {\n",
       "        vertical-align: middle;\n",
       "    }\n",
       "\n",
       "    .dataframe tbody tr th {\n",
       "        vertical-align: top;\n",
       "    }\n",
       "\n",
       "    .dataframe thead th {\n",
       "        text-align: right;\n",
       "    }\n",
       "</style>\n",
       "<table border=\"1\" class=\"dataframe\">\n",
       "  <thead>\n",
       "    <tr style=\"text-align: right;\">\n",
       "      <th></th>\n",
       "      <th>open</th>\n",
       "      <th>close</th>\n",
       "      <th>high</th>\n",
       "      <th>low</th>\n",
       "      <th>volume</th>\n",
       "      <th>money</th>\n",
       "    </tr>\n",
       "  </thead>\n",
       "  <tbody>\n",
       "    <tr>\n",
       "      <th>2005-04-08</th>\n",
       "      <td>984.66</td>\n",
       "      <td>1003.45</td>\n",
       "      <td>1003.70</td>\n",
       "      <td>979.53</td>\n",
       "      <td>1.476253e+09</td>\n",
       "      <td>9.151350e+09</td>\n",
       "    </tr>\n",
       "    <tr>\n",
       "      <th>2005-04-11</th>\n",
       "      <td>1003.88</td>\n",
       "      <td>995.42</td>\n",
       "      <td>1008.74</td>\n",
       "      <td>992.77</td>\n",
       "      <td>1.593607e+09</td>\n",
       "      <td>1.043623e+10</td>\n",
       "    </tr>\n",
       "    <tr>\n",
       "      <th>2005-04-12</th>\n",
       "      <td>993.71</td>\n",
       "      <td>978.70</td>\n",
       "      <td>993.71</td>\n",
       "      <td>978.20</td>\n",
       "      <td>1.022619e+09</td>\n",
       "      <td>6.479563e+09</td>\n",
       "    </tr>\n",
       "    <tr>\n",
       "      <th>2005-04-13</th>\n",
       "      <td>987.95</td>\n",
       "      <td>1000.90</td>\n",
       "      <td>1006.50</td>\n",
       "      <td>987.95</td>\n",
       "      <td>1.607169e+09</td>\n",
       "      <td>1.002960e+10</td>\n",
       "    </tr>\n",
       "    <tr>\n",
       "      <th>2005-04-14</th>\n",
       "      <td>1004.64</td>\n",
       "      <td>986.98</td>\n",
       "      <td>1006.42</td>\n",
       "      <td>985.58</td>\n",
       "      <td>1.294571e+09</td>\n",
       "      <td>7.813425e+09</td>\n",
       "    </tr>\n",
       "    <tr>\n",
       "      <th>...</th>\n",
       "      <td>...</td>\n",
       "      <td>...</td>\n",
       "      <td>...</td>\n",
       "      <td>...</td>\n",
       "      <td>...</td>\n",
       "      <td>...</td>\n",
       "    </tr>\n",
       "    <tr>\n",
       "      <th>2015-12-25</th>\n",
       "      <td>3832.09</td>\n",
       "      <td>3838.20</td>\n",
       "      <td>3848.03</td>\n",
       "      <td>3813.20</td>\n",
       "      <td>1.196240e+10</td>\n",
       "      <td>1.633145e+11</td>\n",
       "    </tr>\n",
       "    <tr>\n",
       "      <th>2015-12-28</th>\n",
       "      <td>3847.53</td>\n",
       "      <td>3727.63</td>\n",
       "      <td>3853.39</td>\n",
       "      <td>3727.63</td>\n",
       "      <td>1.539884e+10</td>\n",
       "      <td>2.100260e+11</td>\n",
       "    </tr>\n",
       "    <tr>\n",
       "      <th>2015-12-29</th>\n",
       "      <td>3723.05</td>\n",
       "      <td>3761.88</td>\n",
       "      <td>3762.05</td>\n",
       "      <td>3710.48</td>\n",
       "      <td>1.018856e+10</td>\n",
       "      <td>1.404051e+11</td>\n",
       "    </tr>\n",
       "    <tr>\n",
       "      <th>2015-12-30</th>\n",
       "      <td>3762.91</td>\n",
       "      <td>3765.18</td>\n",
       "      <td>3765.66</td>\n",
       "      <td>3726.28</td>\n",
       "      <td>1.056300e+10</td>\n",
       "      <td>1.557441e+11</td>\n",
       "    </tr>\n",
       "    <tr>\n",
       "      <th>2015-12-31</th>\n",
       "      <td>3760.90</td>\n",
       "      <td>3731.01</td>\n",
       "      <td>3772.62</td>\n",
       "      <td>3727.32</td>\n",
       "      <td>1.018736e+10</td>\n",
       "      <td>1.450437e+11</td>\n",
       "    </tr>\n",
       "  </tbody>\n",
       "</table>\n",
       "<p>2610 rows × 6 columns</p>\n",
       "</div>"
      ],
      "text/plain": [
       "               open    close     high      low        volume         money\n",
       "2005-04-08   984.66  1003.45  1003.70   979.53  1.476253e+09  9.151350e+09\n",
       "2005-04-11  1003.88   995.42  1008.74   992.77  1.593607e+09  1.043623e+10\n",
       "2005-04-12   993.71   978.70   993.71   978.20  1.022619e+09  6.479563e+09\n",
       "2005-04-13   987.95  1000.90  1006.50   987.95  1.607169e+09  1.002960e+10\n",
       "2005-04-14  1004.64   986.98  1006.42   985.58  1.294571e+09  7.813425e+09\n",
       "...             ...      ...      ...      ...           ...           ...\n",
       "2015-12-25  3832.09  3838.20  3848.03  3813.20  1.196240e+10  1.633145e+11\n",
       "2015-12-28  3847.53  3727.63  3853.39  3727.63  1.539884e+10  2.100260e+11\n",
       "2015-12-29  3723.05  3761.88  3762.05  3710.48  1.018856e+10  1.404051e+11\n",
       "2015-12-30  3762.91  3765.18  3765.66  3726.28  1.056300e+10  1.557441e+11\n",
       "2015-12-31  3760.90  3731.01  3772.62  3727.32  1.018736e+10  1.450437e+11\n",
       "\n",
       "[2610 rows x 6 columns]"
      ]
     },
     "execution_count": 37,
     "metadata": {},
     "output_type": "execute_result"
    }
   ],
   "source": [
    "'''1. 读取数据，选择需要的列'''\n",
    "data = pd.read_csv('XSHG300.csv', index_col=0)  # , parse_dates=True\n",
    "data = data[['open', 'close', 'high', 'low', 'volume', 'money']]\n",
    "data"
   ]
  },
  {
   "cell_type": "code",
   "execution_count": 38,
   "metadata": {},
   "outputs": [
    {
     "data": {
      "text/plain": [
       "[20050408, 20050411, 20050412, 20050413, 20050414, 20050415, 20050418]"
      ]
     },
     "execution_count": 38,
     "metadata": {},
     "output_type": "execute_result"
    }
   ],
   "source": [
    "'''2. 划分\"训练集、测试集\"；归一化；构造\"序列、字典\" '''\n",
    "data_seq = list(data.index)\n",
    "data_seq = list(map(lambda x: int(x.replace('-', '')), data_seq))   # Tensor只接受数值数据\n",
    "print(data_seq[:7])\n"
   ]
  },
  {
   "cell_type": "code",
   "execution_count": null,
   "metadata": {},
   "outputs": [],
   "source": []
  },
  {
   "cell_type": "code",
   "execution_count": null,
   "metadata": {},
   "outputs": [],
   "source": []
  },
  {
   "cell_type": "code",
   "execution_count": null,
   "metadata": {},
   "outputs": [],
   "source": []
  }
 ],
 "metadata": {
  "kernelspec": {
   "display_name": "ml",
   "language": "python",
   "name": "ml"
  },
  "language_info": {
   "codemirror_mode": {
    "name": "ipython",
    "version": 3
   },
   "file_extension": ".py",
   "mimetype": "text/x-python",
   "name": "python",
   "nbconvert_exporter": "python",
   "pygments_lexer": "ipython3",
   "version": "3.7.7"
  }
 },
 "nbformat": 4,
 "nbformat_minor": 4
}
