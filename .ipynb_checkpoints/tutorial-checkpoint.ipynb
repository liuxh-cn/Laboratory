{
 "cells": [
  {
   "cell_type": "markdown",
   "metadata": {},
   "source": [
    "\n",
    "### Juypter-Notebook 添加 Anaconda 虚拟环境的 kernel\n",
    "hell`o w`orld\n",
    "\n",
    "+ a\n",
    "+ b\n",
    "\n",
    "> hello world $\\frac{1}{n}$\n",
    "> aaaa\n",
    "\n",
    "$$\n",
    "\\frac{1}{n}\n",
    "$$\n",
    "\n",
    "```\n",
    "## 创建虚拟环境，并安装 ipykernel\n",
    "conda create -name [env-name] python=3.7\n",
    "conda info -e                             # 查看所有虚拟环境\n",
    "conda remove  -n [env-name] --all\n",
    "\n",
    "conda activate [env-name]\n",
    "conda install ipykernel\n",
    "\n",
    "## 将 Anaconda 的虚拟环境配置到 jupyter-notebook 中\n",
    "# 需先进入对应的虚拟环境中 conda activate [env-name]\n",
    "python -m ipykernel install --user --name [env-name]\n",
    "jupyter kernelspec list\n",
    "```"
   ]
  },
  {
   "cell_type": "code",
   "execution_count": 1,
   "metadata": {},
   "outputs": [
    {
     "name": "stdout",
     "output_type": "stream",
     "text": [
      "hello\n"
     ]
    }
   ],
   "source": [
    "print('hello')"
   ]
  },
  {
   "cell_type": "code",
   "execution_count": 4,
   "metadata": {},
   "outputs": [],
   "source": [
    "from pandas import DataFrame\n",
    "import numpy as np"
   ]
  },
  {
   "cell_type": "code",
   "execution_count": 6,
   "metadata": {},
   "outputs": [
    {
     "name": "stdout",
     "output_type": "stream",
     "text": [
      "[0 1 2 3 4 5 6 7 8 9]\n"
     ]
    }
   ],
   "source": [
    "data = np.arange(10)\n",
    "print(data)"
   ]
  },
  {
   "cell_type": "code",
   "execution_count": null,
   "metadata": {},
   "outputs": [],
   "source": []
  }
 ],
 "metadata": {
  "kernelspec": {
   "display_name": "ml",
   "language": "python",
   "name": "ml"
  },
  "language_info": {
   "codemirror_mode": {
    "name": "ipython",
    "version": 3
   },
   "file_extension": ".py",
   "mimetype": "text/x-python",
   "name": "python",
   "nbconvert_exporter": "python",
   "pygments_lexer": "ipython3",
   "version": "3.7.7"
  }
 },
 "nbformat": 4,
 "nbformat_minor": 4
}
